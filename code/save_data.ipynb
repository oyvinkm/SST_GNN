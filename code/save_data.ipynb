{
 "cells": [
  {
   "cell_type": "code",
   "execution_count": 1,
   "metadata": {},
   "outputs": [],
   "source": [
    "from utils.utils import make_animation\n",
    "from dataprocessing.preprocessed import loadh5py, save_data_list\n",
    "from torch_geometric.loader import DataLoader\n",
    "import os\n",
    "import sys"
   ]
  },
  {
   "cell_type": "code",
   "execution_count": 2,
   "metadata": {},
   "outputs": [
    {
     "name": "stdout",
     "output_type": "stream",
     "text": [
      "Trajectory:  0\n",
      "Trajectory:  1\n",
      "Trajectory:  2\n",
      "Trajectory:  3\n",
      "Trajectory:  4\n",
      "Trajectory:  5\n",
      "Trajectory:  6\n",
      "Trajectory:  7\n",
      "Trajectory:  8\n",
      "Trajectory:  9\n",
      "Trajectory:  10\n",
      "Trajectory:  11\n",
      "Trajectory:  12\n",
      "Trajectory:  13\n",
      "Trajectory:  14\n",
      "Trajectory:  15\n",
      "Trajectory:  16\n",
      "Trajectory:  17\n",
      "Trajectory:  18\n",
      "Trajectory:  19\n"
     ]
    }
   ],
   "source": [
    "\n",
    "\n",
    "data_list = loadh5py('train', no_trajectories=20)\n"
   ]
  },
  {
   "cell_type": "code",
   "execution_count": 3,
   "metadata": {},
   "outputs": [
    {
     "name": "stdout",
     "output_type": "stream",
     "text": [
      "Each list is 600 long: 0\n",
      "20\n"
     ]
    }
   ],
   "source": [
    "print(f'Each list is 600 long: {len(data_list) % 599}')\n",
    "n = 599\n",
    "x = [data_list[i:i + n] for i in range(0, len(data_list), n)] \n",
    "print(len(x))"
   ]
  },
  {
   "cell_type": "code",
   "execution_count": 4,
   "metadata": {},
   "outputs": [
    {
     "name": "stdout",
     "output_type": "stream",
     "text": [
      "0\n",
      "1\n",
      "2\n",
      "3\n",
      "4\n",
      "5\n",
      "6\n",
      "7\n",
      "8\n",
      "9\n",
      "10\n",
      "11\n",
      "12\n",
      "13\n",
      "14\n",
      "15\n",
      "16\n",
      "17\n",
      "18\n",
      "19\n"
     ]
    }
   ],
   "source": [
    "for idx, l in enumerate(x):\n",
    "  print(idx)\n",
    "  file = f'trajectory_{idx}'\n",
    "  save_data_list(l, file, data_folder=None)"
   ]
  }
 ],
 "metadata": {
  "kernelspec": {
   "display_name": "master",
   "language": "python",
   "name": "python3"
  },
  "language_info": {
   "codemirror_mode": {
    "name": "ipython",
    "version": 3
   },
   "file_extension": ".py",
   "mimetype": "text/x-python",
   "name": "python",
   "nbconvert_exporter": "python",
   "pygments_lexer": "ipython3",
   "version": "3.11.4"
  },
  "orig_nbformat": 4
 },
 "nbformat": 4,
 "nbformat_minor": 2
}

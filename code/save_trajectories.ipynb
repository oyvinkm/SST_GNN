{
 "cells": [
  {
   "cell_type": "code",
   "execution_count": 1,
   "metadata": {},
   "outputs": [
    {
     "ename": "ModuleNotFoundError",
     "evalue": "No module named 'normalization'",
     "output_type": "error",
     "traceback": [
      "\u001b[0;31m---------------------------------------------------------------------------\u001b[0m",
      "\u001b[0;31mModuleNotFoundError\u001b[0m                       Traceback (most recent call last)",
      "\u001b[1;32m/Users/okm/MASTER/SST_GNN/code/save_trajectories.ipynb Cell 1\u001b[0m line \u001b[0;36m2\n\u001b[1;32m      <a href='vscode-notebook-cell:/Users/okm/MASTER/SST_GNN/code/save_trajectories.ipynb#W0sZmlsZQ%3D%3D?line=0'>1</a>\u001b[0m \u001b[39mfrom\u001b[39;00m \u001b[39mutils\u001b[39;00m\u001b[39m.\u001b[39;00m\u001b[39mvisualization\u001b[39;00m \u001b[39mimport\u001b[39;00m make_animation\n\u001b[0;32m----> <a href='vscode-notebook-cell:/Users/okm/MASTER/SST_GNN/code/save_trajectories.ipynb#W0sZmlsZQ%3D%3D?line=1'>2</a>\u001b[0m \u001b[39mfrom\u001b[39;00m \u001b[39mdataprocessing\u001b[39;00m\u001b[39m.\u001b[39;00m\u001b[39mutils\u001b[39;00m\u001b[39m.\u001b[39;00m\u001b[39mloading\u001b[39;00m \u001b[39mimport\u001b[39;00m loadh5py, save_data_list\n\u001b[1;32m      <a href='vscode-notebook-cell:/Users/okm/MASTER/SST_GNN/code/save_trajectories.ipynb#W0sZmlsZQ%3D%3D?line=2'>3</a>\u001b[0m \u001b[39mfrom\u001b[39;00m \u001b[39mtorch_geometric\u001b[39;00m\u001b[39m.\u001b[39;00m\u001b[39mloader\u001b[39;00m \u001b[39mimport\u001b[39;00m DataLoader\n\u001b[1;32m      <a href='vscode-notebook-cell:/Users/okm/MASTER/SST_GNN/code/save_trajectories.ipynb#W0sZmlsZQ%3D%3D?line=3'>4</a>\u001b[0m \u001b[39mimport\u001b[39;00m \u001b[39mos\u001b[39;00m\n",
      "File \u001b[0;32m~/MASTER/SST_GNN/code/dataprocessing/utils/loading.py:11\u001b[0m\n\u001b[1;32m      9\u001b[0m \u001b[39mimport\u001b[39;00m \u001b[39mtorch\u001b[39;00m\n\u001b[1;32m     10\u001b[0m \u001b[39mfrom\u001b[39;00m \u001b[39mtorch_geometric\u001b[39;00m\u001b[39m.\u001b[39;00m\u001b[39mdata\u001b[39;00m \u001b[39mimport\u001b[39;00m Data\n\u001b[0;32m---> 11\u001b[0m \u001b[39mfrom\u001b[39;00m \u001b[39mnormalization\u001b[39;00m \u001b[39mimport\u001b[39;00m get_stats\n\u001b[1;32m     12\u001b[0m \u001b[39mfrom\u001b[39;00m \u001b[39mtriangle_to_edges\u001b[39;00m \u001b[39mimport\u001b[39;00m triangles_to_edges, NodeType\n\u001b[1;32m     13\u001b[0m \u001b[39mimport\u001b[39;00m \u001b[39mh5py\u001b[39;00m\n",
      "\u001b[0;31mModuleNotFoundError\u001b[0m: No module named 'normalization'"
     ]
    }
   ],
   "source": [
    "from utils.visualization import make_animation\n",
    "from dataprocessing.utils.loading import loadh5py, save_data_list\n",
    "from torch_geometric.loader import DataLoader\n",
    "import os\n",
    "import sys"
   ]
  },
  {
   "cell_type": "code",
   "execution_count": null,
   "metadata": {},
   "outputs": [
    {
     "name": "stdout",
     "output_type": "stream",
     "text": [
      "Trajectory:  0\n",
      "Trajectory:  1\n",
      "Trajectory:  2\n",
      "Trajectory:  3\n",
      "Trajectory:  4\n",
      "Trajectory:  5\n",
      "Trajectory:  6\n",
      "Trajectory:  7\n",
      "Trajectory:  8\n",
      "Trajectory:  9\n",
      "Trajectory:  10\n",
      "Trajectory:  11\n",
      "Trajectory:  12\n",
      "Trajectory:  13\n",
      "Trajectory:  14\n",
      "Trajectory:  15\n",
      "Trajectory:  16\n",
      "Trajectory:  17\n",
      "Trajectory:  18\n",
      "Trajectory:  19\n"
     ]
    }
   ],
   "source": [
    "\n",
    "\n",
    "data_list = loadh5py('train', no_trajectories=300)\n"
   ]
  },
  {
   "cell_type": "code",
   "execution_count": 3,
   "metadata": {},
   "outputs": [
    {
     "name": "stdout",
     "output_type": "stream",
     "text": [
      "Each list is 600 long: 0\n",
      "20\n"
     ]
    }
   ],
   "source": [
    "print(f'Each list is 600 long: {len(data_list) % 599}')\n",
    "n = 599\n",
    "x = [data_list[i:i + n] for i in range(0, len(data_list), n)] \n",
    "print(len(x))"
   ]
  },
  {
   "cell_type": "code",
   "execution_count": 4,
   "metadata": {},
   "outputs": [
    {
     "name": "stdout",
     "output_type": "stream",
     "text": [
      "0\n",
      "1\n",
      "2\n",
      "3\n",
      "4\n",
      "5\n",
      "6\n",
      "7\n",
      "8\n",
      "9\n",
      "10\n",
      "11\n",
      "12\n",
      "13\n",
      "14\n",
      "15\n",
      "16\n",
      "17\n",
      "18\n",
      "19\n"
     ]
    }
   ],
   "source": [
    "for idx, l in enumerate(x):\n",
    "  print(idx)\n",
    "  file = f'trajectory_{idx}'\n",
    "  save_data_list(l, file, data_folder=None)"
   ]
  },
  {
   "cell_type": "code",
   "execution_count": null,
   "metadata": {},
   "outputs": [],
   "source": []
  }
 ],
 "metadata": {
  "kernelspec": {
   "display_name": "master",
   "language": "python",
   "name": "python3"
  },
  "language_info": {
   "codemirror_mode": {
    "name": "ipython",
    "version": 3
   },
   "file_extension": ".py",
   "mimetype": "text/x-python",
   "name": "python",
   "nbconvert_exporter": "python",
   "pygments_lexer": "ipython3",
   "version": "3.11.4"
  },
  "orig_nbformat": 4
 },
 "nbformat": 4,
 "nbformat_minor": 2
}

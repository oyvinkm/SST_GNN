{
 "cells": [
  {
   "cell_type": "code",
   "execution_count": null,
   "metadata": {},
   "outputs": [],
   "source": [
    "# Used to generate individual trajectories. \n",
    "# You must have:\n",
    "# - ./data/mm_files\n",
    "# - ./data/train.h etc."
   ]
  },
  {
   "cell_type": "code",
   "execution_count": 1,
   "metadata": {},
   "outputs": [],
   "source": [
    "from utils.visualization import make_animation\n",
    "from dataprocessing.utils.loading import loadh5py, save_data_list\n",
    "from torch_geometric.loader import DataLoader\n",
    "import os\n",
    "import sys"
   ]
  },
  {
   "cell_type": "code",
   "execution_count": 2,
   "metadata": {},
   "outputs": [
    {
     "name": "stdout",
     "output_type": "stream",
     "text": [
      "Trajectory:  0\n",
      "Trajectory:  1\n",
      "Trajectory:  2\n",
      "Trajectory:  3\n",
      "Trajectory:  4\n",
      "Trajectory:  5\n",
      "Trajectory:  6\n",
      "Trajectory:  7\n",
      "Trajectory:  8\n",
      "Trajectory:  9\n",
      "Trajectory:  10\n",
      "Trajectory:  11\n",
      "Trajectory:  12\n",
      "Trajectory:  13\n",
      "Trajectory:  14\n",
      "Trajectory:  15\n",
      "Trajectory:  16\n",
      "Trajectory:  17\n",
      "Trajectory:  18\n",
      "Trajectory:  19\n",
      "Trajectory:  20\n",
      "Trajectory:  21\n",
      "Trajectory:  22\n",
      "Trajectory:  23\n",
      "Trajectory:  24\n",
      "Trajectory:  25\n",
      "Trajectory:  26\n",
      "Trajectory:  27\n",
      "Trajectory:  28\n",
      "Trajectory:  29\n",
      "Trajectory:  30\n",
      "Trajectory:  31\n",
      "Trajectory:  32\n",
      "Trajectory:  33\n",
      "Trajectory:  34\n",
      "Trajectory:  35\n",
      "Trajectory:  36\n",
      "Trajectory:  37\n",
      "Trajectory:  38\n",
      "Trajectory:  39\n",
      "Trajectory:  40\n",
      "Trajectory:  41\n",
      "Trajectory:  42\n",
      "Trajectory:  43\n",
      "Trajectory:  44\n",
      "Trajectory:  45\n",
      "Trajectory:  46\n",
      "Trajectory:  47\n",
      "Trajectory:  48\n",
      "Trajectory:  49\n",
      "Trajectory:  50\n",
      "Trajectory:  51\n",
      "Trajectory:  52\n",
      "Trajectory:  53\n",
      "Trajectory:  54\n",
      "Trajectory:  55\n"
     ]
    }
   ],
   "source": [
    "\n",
    "\n",
    "data_list = loadh5py('train', no_trajectories=300, save=True)\n"
   ]
  },
  {
   "cell_type": "code",
   "execution_count": null,
   "metadata": {},
   "outputs": [],
   "source": [
    "print(f'Each list is 600 long: {len(data_list) % 599}')\n",
    "n = 599\n",
    "x = [data_list[i:i + n] for i in range(0, len(data_list), n)] \n",
    "print(len(x))"
   ]
  },
  {
   "cell_type": "code",
   "execution_count": null,
   "metadata": {},
   "outputs": [],
   "source": [
    "for idx, l in enumerate(x):\n",
    "  print(idx)\n",
    "  file = f'trajectory_{idx}'\n",
    "  save_data_list(l, file, data_folder=None)"
   ]
  },
  {
   "cell_type": "code",
   "execution_count": null,
   "metadata": {},
   "outputs": [],
   "source": []
  }
 ],
 "metadata": {
  "kernelspec": {
   "display_name": "master",
   "language": "python",
   "name": "python3"
  },
  "language_info": {
   "codemirror_mode": {
    "name": "ipython",
    "version": 3
   },
   "file_extension": ".py",
   "mimetype": "text/x-python",
   "name": "python",
   "nbconvert_exporter": "python",
   "pygments_lexer": "ipython3",
   "version": "3.11.4"
  },
  "orig_nbformat": 4
 },
 "nbformat": 4,
 "nbformat_minor": 2
}

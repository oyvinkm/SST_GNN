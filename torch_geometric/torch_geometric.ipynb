{
 "cells": [
  {
   "cell_type": "code",
   "execution_count": 1,
   "metadata": {},
   "outputs": [],
   "source": [
    "import torch\n",
    "from torch_geometric.data import Data"
   ]
  },
  {
   "cell_type": "code",
   "execution_count": 2,
   "metadata": {},
   "outputs": [],
   "source": [
    "edge_index = torch.tensor([[0, 1],\n",
    "                           [1, 0],\n",
    "                           [1, 2],\n",
    "                           [2, 1]], dtype=torch.long)\n",
    "x = torch.tensor([[-1], [0], [1]], dtype=torch.float)"
   ]
  },
  {
   "cell_type": "code",
   "execution_count": 3,
   "metadata": {},
   "outputs": [],
   "source": [
    "data = Data(x=x, edge_index=edge_index.t().contiguous())"
   ]
  },
  {
   "cell_type": "code",
   "execution_count": 7,
   "metadata": {},
   "outputs": [
    {
     "name": "stderr",
     "output_type": "stream",
     "text": [
      "Downloading https://www.chrsmrrs.com/graphkerneldatasets/ENZYMES.zip\n",
      "Extracting /tmp/ENZYMES/ENZYMES/ENZYMES.zip\n",
      "Processing...\n"
     ]
    },
    {
     "name": "stdout",
     "output_type": "stream",
     "text": [
      "600\n",
      "6\n",
      "3\n"
     ]
    },
    {
     "name": "stderr",
     "output_type": "stream",
     "text": [
      "Done!\n"
     ]
    }
   ],
   "source": [
    "from torch_geometric.datasets import TUDataset\n",
    "dataset = TUDataset(root='/tmp/ENZYMES', name = 'ENZYMES')\n",
    "print(len(dataset))\n",
    "print(dataset.num_classes)\n",
    "print(dataset.num_node_features)"
   ]
  },
  {
   "cell_type": "code",
   "execution_count": 9,
   "metadata": {},
   "outputs": [
    {
     "name": "stdout",
     "output_type": "stream",
     "text": [
      "Data(x=[2], edge_index=[2], y=[1])\n"
     ]
    },
    {
     "data": {
      "text/plain": [
       "True"
      ]
     },
     "execution_count": 9,
     "metadata": {},
     "output_type": "execute_result"
    }
   ],
   "source": [
    "data = dataset[0]\n",
    "print(Data(edge_index=[2, 168], x=[37, 3], y=[1]))\n",
    "data.is_undirected()"
   ]
  },
  {
   "cell_type": "code",
   "execution_count": 12,
   "metadata": {},
   "outputs": [
    {
     "name": "stdout",
     "output_type": "stream",
     "text": [
      "DataBatch(edge_index=[2, 4026], x=[1031, 3], y=[32], batch=[1031], ptr=[33])\n",
      "32\n",
      "DataBatch(edge_index=[2, 3508], x=[924, 3], y=[32], batch=[924], ptr=[33])\n",
      "32\n",
      "DataBatch(edge_index=[2, 3944], x=[1034, 3], y=[32], batch=[1034], ptr=[33])\n",
      "32\n",
      "DataBatch(edge_index=[2, 3842], x=[970, 3], y=[32], batch=[970], ptr=[33])\n",
      "32\n",
      "DataBatch(edge_index=[2, 4064], x=[1071, 3], y=[32], batch=[1071], ptr=[33])\n",
      "32\n",
      "DataBatch(edge_index=[2, 3590], x=[940, 3], y=[32], batch=[940], ptr=[33])\n",
      "32\n",
      "DataBatch(edge_index=[2, 4430], x=[1136, 3], y=[32], batch=[1136], ptr=[33])\n",
      "32\n",
      "DataBatch(edge_index=[2, 4052], x=[1076, 3], y=[32], batch=[1076], ptr=[33])\n",
      "32\n",
      "DataBatch(edge_index=[2, 4164], x=[1136, 3], y=[32], batch=[1136], ptr=[33])\n",
      "32\n",
      "DataBatch(edge_index=[2, 4414], x=[1170, 3], y=[32], batch=[1170], ptr=[33])\n",
      "32\n",
      "DataBatch(edge_index=[2, 3878], x=[958, 3], y=[32], batch=[958], ptr=[33])\n",
      "32\n",
      "DataBatch(edge_index=[2, 4420], x=[1190, 3], y=[32], batch=[1190], ptr=[33])\n",
      "32\n",
      "DataBatch(edge_index=[2, 4216], x=[1131, 3], y=[32], batch=[1131], ptr=[33])\n",
      "32\n",
      "DataBatch(edge_index=[2, 3982], x=[1092, 3], y=[32], batch=[1092], ptr=[33])\n",
      "32\n",
      "DataBatch(edge_index=[2, 4028], x=[1035, 3], y=[32], batch=[1035], ptr=[33])\n",
      "32\n",
      "DataBatch(edge_index=[2, 3906], x=[1000, 3], y=[32], batch=[1000], ptr=[33])\n",
      "32\n",
      "DataBatch(edge_index=[2, 4050], x=[1065, 3], y=[32], batch=[1065], ptr=[33])\n",
      "32\n",
      "DataBatch(edge_index=[2, 3592], x=[906, 3], y=[32], batch=[906], ptr=[33])\n",
      "32\n",
      "DataBatch(edge_index=[2, 2458], x=[715, 3], y=[24], batch=[715], ptr=[25])\n",
      "24\n"
     ]
    }
   ],
   "source": [
    "from torch_geometric.loader import DataLoader\n",
    "loader = DataLoader(dataset, batch_size=32, shuffle=True)\n",
    "for batch in loader:\n",
    "    print(batch)\n",
    "    print(batch.num_graphs)"
   ]
  },
  {
   "cell_type": "code",
   "execution_count": 20,
   "metadata": {},
   "outputs": [],
   "source": [
    "import torch.nn.functional as F\n",
    "from torch_geometric.nn import GCNConv\n",
    "from torch_geometric.datasets import Planetoid\n",
    "dataset = Planetoid(root = '/tmp/Cora', name='Cora')\n",
    "\n",
    "class GCN(torch.nn.Module):\n",
    "    def __init__(self):\n",
    "      super().__init__()\n",
    "      self.conv1 = GCNConv(dataset.num_node_features, 16)\n",
    "      self.conv2 = GCNConv(16, dataset.num_classes)\n",
    "    def forward(self, data):\n",
    "      x, edge_index = data.x, data.edge_index\n",
    "      x = self.conv1(x, edge_index)\n",
    "      x = F.relu(x)\n",
    "      x = F.dropout(x, training=self.training) \n",
    "      x = self.conv2(x, edge_index)\n",
    "\n",
    "      return F.log_softmax(x, dim=1)"
   ]
  },
  {
   "cell_type": "code",
   "execution_count": 21,
   "metadata": {},
   "outputs": [],
   "source": [
    "device = torch.device('cpu')\n",
    "model = GCN().to(device)\n",
    "data = dataset[0].to(device)\n",
    "optimizer = torch.optim.Adam(model.parameters(), lr=0.01, weight_decay=5e-4)\n",
    "\n",
    "model.train()\n",
    "for epoch in range(400):\n",
    "    optimizer.zero_grad()\n",
    "    out = model(data)\n",
    "    loss = F.nll_loss(out[data.train_mask], data.y[data.train_mask])\n",
    "    loss.backward()\n",
    "    optimizer.step()"
   ]
  },
  {
   "cell_type": "code",
   "execution_count": 22,
   "metadata": {},
   "outputs": [
    {
     "name": "stdout",
     "output_type": "stream",
     "text": [
      "Accuracy: 0.8000\n"
     ]
    }
   ],
   "source": [
    "model.eval()\n",
    "pred = model(data).argmax(dim=1)\n",
    "correct = (pred[data.test_mask] == data.y[data.test_mask]).sum()\n",
    "acc = int(correct)/int(data.test_mask.sum())\n",
    "print(f'Accuracy: {acc:.4f}')"
   ]
  },
  {
   "cell_type": "code",
   "execution_count": null,
   "metadata": {},
   "outputs": [],
   "source": []
  }
 ],
 "metadata": {
  "kernelspec": {
   "display_name": "master",
   "language": "python",
   "name": "python3"
  },
  "language_info": {
   "codemirror_mode": {
    "name": "ipython",
    "version": 3
   },
   "file_extension": ".py",
   "mimetype": "text/x-python",
   "name": "python",
   "nbconvert_exporter": "python",
   "pygments_lexer": "ipython3",
   "version": "3.11.4"
  },
  "orig_nbformat": 4
 },
 "nbformat": 4,
 "nbformat_minor": 2
}
